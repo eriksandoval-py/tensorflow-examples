{
 "cells": [
  {
   "cell_type": "markdown",
   "id": "2f7e2316",
   "metadata": {},
   "source": [
    "# Introduction to TensorFlow\n",
    "This notebook will focus on the fundamentals of the TensorFlow platform (Python) in a follow-along style tutorial. \n",
    "## 1. Handle Imports\n",
    "First we need to import TensorFlow. It is common practice to import it as \"tf\" and to also check the version you are using. "
   ]
  },
  {
   "cell_type": "code",
   "execution_count": 1,
   "id": "757a1ae8",
   "metadata": {},
   "outputs": [
    {
     "name": "stdout",
     "output_type": "stream",
     "text": [
      "2.10.0\n"
     ]
    }
   ],
   "source": [
    "import tensorflow as tf\n",
    "print(tf.__version__)"
   ]
  },
  {
   "cell_type": "code",
   "execution_count": null,
   "id": "143a18e4",
   "metadata": {},
   "outputs": [],
   "source": []
  }
 ],
 "metadata": {
  "kernelspec": {
   "display_name": "Python 3 (ipykernel)",
   "language": "python",
   "name": "python3"
  },
  "language_info": {
   "codemirror_mode": {
    "name": "ipython",
    "version": 3
   },
   "file_extension": ".py",
   "mimetype": "text/x-python",
   "name": "python",
   "nbconvert_exporter": "python",
   "pygments_lexer": "ipython3",
   "version": "3.10.9"
  }
 },
 "nbformat": 4,
 "nbformat_minor": 5
}
