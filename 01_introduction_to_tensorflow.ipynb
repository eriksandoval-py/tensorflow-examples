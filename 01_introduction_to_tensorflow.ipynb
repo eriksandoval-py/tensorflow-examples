{
 "cells": [
  {
   "cell_type": "markdown",
   "id": "2f7e2316",
   "metadata": {},
   "source": [
    "# Introduction to TensorFlow\n",
    "This notebook will focus on the fundamentals of the TensorFlow platform (Python) in a follow-along style tutorial. \n",
    "## 1. Handle Imports\n",
    "First we need to import TensorFlow. It is common practice to import it as \"tf\" and to also check the version you are using. "
   ]
  },
  {
   "cell_type": "code",
   "execution_count": 1,
   "id": "757a1ae8",
   "metadata": {},
   "outputs": [
    {
     "name": "stdout",
     "output_type": "stream",
     "text": [
      "2.10.0\n"
     ]
    }
   ],
   "source": [
    "import tensorflow as tf\n",
    "print(tf.__version__)"
   ]
  },
  {
   "cell_type": "markdown",
   "id": "ed10494f",
   "metadata": {},
   "source": [
    "## 2. Load a dataset\n",
    "Load and prepare the MNIST dataset. Pixel values for the images range from 0-255, and we will scale these values to a range of 0-1 by dividing by 255.0. This also converts the data to floating-point rather than integer. "
   ]
  },
  {
   "cell_type": "code",
   "execution_count": 2,
   "id": "b6673136",
   "metadata": {},
   "outputs": [
    {
     "name": "stdout",
     "output_type": "stream",
     "text": [
      "Downloading data from https://storage.googleapis.com/tensorflow/tf-keras-datasets/mnist.npz\n",
      "11490434/11490434 [==============================] - 1s 0us/step\n"
     ]
    }
   ],
   "source": [
    "mnist = tf.keras.datasets.mnist\n",
    "(x_train, y_train), (x_test, y_test) = mnist.load_data()\n",
    "x_train, x_test = x_train / 255.0, x_test / 255.0"
   ]
  },
  {
   "cell_type": "code",
   "execution_count": null,
   "id": "a1b9021b",
   "metadata": {},
   "outputs": [],
   "source": []
  },
  {
   "cell_type": "code",
   "execution_count": null,
   "id": "d126b961",
   "metadata": {},
   "outputs": [],
   "source": []
  }
 ],
 "metadata": {
  "kernelspec": {
   "display_name": "Python 3 (ipykernel)",
   "language": "python",
   "name": "python3"
  },
  "language_info": {
   "codemirror_mode": {
    "name": "ipython",
    "version": 3
   },
   "file_extension": ".py",
   "mimetype": "text/x-python",
   "name": "python",
   "nbconvert_exporter": "python",
   "pygments_lexer": "ipython3",
   "version": "3.10.9"
  }
 },
 "nbformat": 4,
 "nbformat_minor": 5
}
