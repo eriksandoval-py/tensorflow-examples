{
 "cells": [
  {
   "cell_type": "markdown",
   "id": "2f7e2316",
   "metadata": {},
   "source": [
    "# Introduction to TensorFlow\n",
    "This notebook will focus on the fundamentals of the TensorFlow platform (Python) in a follow-along style tutorial. \n",
    "## 1. Handle Imports\n",
    "First we need to import TensorFlow. It is common practice to import it as \"tf\" and to also check the version you are using. "
   ]
  },
  {
   "cell_type": "code",
   "execution_count": 1,
   "id": "757a1ae8",
   "metadata": {},
   "outputs": [
    {
     "name": "stdout",
     "output_type": "stream",
     "text": [
      "2.10.0\n"
     ]
    }
   ],
   "source": [
    "import tensorflow as tf\n",
    "print(tf.__version__)"
   ]
  },
  {
   "cell_type": "markdown",
   "id": "033194d5",
   "metadata": {},
   "source": [
    "## 2. Load a dataset\n",
    "Load and prepare the MNIST dataset. Pixel values for the images range from 0-255, and we will scale these values to a range of 0-1 by dividing by 255.0. This also converts the data to floating-point rather than integer. "
   ]
  },
  {
   "cell_type": "code",
   "execution_count": 2,
   "id": "cc5497ba",
   "metadata": {},
   "outputs": [
    {
     "name": "stdout",
     "output_type": "stream",
     "text": [
      "Downloading data from https://storage.googleapis.com/tensorflow/tf-keras-datasets/mnist.npz\n",
      "11490434/11490434 [==============================] - 1s 0us/step\n"
     ]
    }
   ],
   "source": [
    "mnist = tf.keras.datasets.mnist\n",
    "(x_train, y_train), (x_test, y_test) = mnist.load_data()\n",
    "x_train, x_test = x_train / 255.0, x_test / 255.0"
   ]
  },
  {
   "cell_type": "markdown",
   "id": "c90ace4b",
   "metadata": {},
   "source": [
    "## 3. Build a machine learning model\n",
    "Now we can build a sequential model using `tf.keras.Sequential`:"
   ]
  },
  {
   "cell_type": "code",
   "execution_count": 3,
   "id": "581990a7",
   "metadata": {},
   "outputs": [],
   "source": [
    "model = tf.keras.models.Sequential([\n",
    "    tf.keras.layers.Flatten(input_shape=(28, 28)),\n",
    "    tf.keras.layers.Dense(128, activation='relu'),\n",
    "    tf.keras.layers.Dropout(0.2),\n",
    "    tf.keras.layers.Dense(10)\n",
    "])"
   ]
  },
  {
   "cell_type": "markdown",
   "id": "4fd32456",
   "metadata": {},
   "source": [
    "`Sequential` models are useful for stacking layers where each layer has one input tensor and on output tensor. Layers are functions with a known mathematical structure that can be reused and have trained variables. This model uses the `Flatten, Dense, Dropout` layers. "
   ]
  },
  {
   "cell_type": "markdown",
   "id": "4c6676fb",
   "metadata": {},
   "source": [
    "For each example, the model returns a vector of logits or log-odds scores, one for each class."
   ]
  },
  {
   "cell_type": "code",
   "execution_count": 8,
   "id": "8401605b",
   "metadata": {},
   "outputs": [
    {
     "data": {
      "text/plain": [
       "array([[ 0.5344286 , -0.14030938,  0.49713415,  0.26344085,  0.45553884,\n",
       "         0.16627784, -0.26635483,  0.7346546 ,  0.1916005 , -0.11848602]],\n",
       "      dtype=float32)"
      ]
     },
     "execution_count": 8,
     "metadata": {},
     "output_type": "execute_result"
    }
   ],
   "source": [
    "predictions = model(x_train[:1]).numpy()\n",
    "predictions"
   ]
  },
  {
   "cell_type": "markdown",
   "id": "f23ad387",
   "metadata": {},
   "source": [
    "The `tf.nn.softmax` function converts these logits to probabilities for each class:"
   ]
  },
  {
   "cell_type": "code",
   "execution_count": 6,
   "id": "d90149ef",
   "metadata": {},
   "outputs": [
    {
     "data": {
      "text/plain": [
       "array([[0.12899223, 0.06569443, 0.12427013, 0.09837279, 0.1192071 ,\n",
       "        0.08926427, 0.05791455, 0.15758707, 0.09155355, 0.06714386]],\n",
       "      dtype=float32)"
      ]
     },
     "execution_count": 6,
     "metadata": {},
     "output_type": "execute_result"
    }
   ],
   "source": [
    "tf.nn.softmax(predictions).numpy()"
   ]
  },
  {
   "cell_type": "markdown",
   "id": "fe04db63",
   "metadata": {},
   "source": [
    "Note that it is possible to bake the function directly into the activation function for the last layer of the network. This makes the model output easier to understand, but this is discouraged as it is impossible to provide an exact and stable loss calculation for all models using softmax output. "
   ]
  },
  {
   "cell_type": "markdown",
   "id": "34593ff2",
   "metadata": {},
   "source": [
    "Define a loss function for training using `losses.SparseCategoricalCrossentropy`:"
   ]
  },
  {
   "cell_type": "code",
   "execution_count": 9,
   "id": "0ed9fe84",
   "metadata": {},
   "outputs": [],
   "source": [
    "loss_function = tf.keras.losses.SparseCategoricalCrossentropy(from_logits=True)"
   ]
  },
  {
   "cell_type": "markdown",
   "id": "6e56a1d2",
   "metadata": {},
   "source": [
    "The loss function takes a vector of ground truth values and vector of logits and returns a scalar loss for each example. This loss is equal to the negative log probability of the true class: The loss is zero if the model is sure of the correct class."
   ]
  },
  {
   "cell_type": "markdown",
   "id": "f2014735",
   "metadata": {},
   "source": [
    "This untrained model gives probabilities close to random (1/10 for each class), so the initial loss should be close to `-tf.math.log(1/10) ~= 2.3`."
   ]
  },
  {
   "cell_type": "code",
   "execution_count": 10,
   "id": "2a341f39",
   "metadata": {},
   "outputs": [
    {
     "data": {
      "text/plain": [
       "2.416154"
      ]
     },
     "execution_count": 10,
     "metadata": {},
     "output_type": "execute_result"
    }
   ],
   "source": [
    "loss_function(y_train[:1], predictions).numpy()"
   ]
  },
  {
   "cell_type": "code",
   "execution_count": null,
   "id": "06e43133",
   "metadata": {},
   "outputs": [],
   "source": []
  }
 ],
 "metadata": {
  "kernelspec": {
   "display_name": "Python 3 (ipykernel)",
   "language": "python",
   "name": "python3"
  },
  "language_info": {
   "codemirror_mode": {
    "name": "ipython",
    "version": 3
   },
   "file_extension": ".py",
   "mimetype": "text/x-python",
   "name": "python",
   "nbconvert_exporter": "python",
   "pygments_lexer": "ipython3",
   "version": "3.10.9"
  }
 },
 "nbformat": 4,
 "nbformat_minor": 5
}
